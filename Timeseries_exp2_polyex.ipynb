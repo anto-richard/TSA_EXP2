{
  "nbformat": 4,
  "nbformat_minor": 0,
  "metadata": {
    "colab": {
      "provenance": [],
      "authorship_tag": "ABX9TyOE1HJy65ytWk6MmiaGkoP7",
      "include_colab_link": true
    },
    "kernelspec": {
      "name": "python3",
      "display_name": "Python 3"
    },
    "language_info": {
      "name": "python"
    }
  },
  "cells": [
    {
      "cell_type": "markdown",
      "metadata": {
        "id": "view-in-github",
        "colab_type": "text"
      },
      "source": [
        "<a href=\"https://colab.research.google.com/github/anto-richard/TSA_EXP2/blob/main/Timeseries_exp2_polyex.ipynb\" target=\"_parent\"><img src=\"https://colab.research.google.com/assets/colab-badge.svg\" alt=\"Open In Colab\"/></a>"
      ]
    },
    {
      "cell_type": "code",
      "execution_count": 2,
      "metadata": {
        "colab": {
          "base_uri": "https://localhost:8080/"
        },
        "id": "ZJ92swtXYkTM",
        "outputId": "0f7223e8-c04b-465d-f649-eec748626c15"
      },
      "outputs": [
        {
          "output_type": "stream",
          "name": "stdout",
          "text": [
            "+--------+--------+------------+-------+-------+-------+------+-------+\n",
            "|   Year |   Prod |   X=x-2013 |   X^2 |   X^3 |   X^4 |   xy |   x2y |\n",
            "+========+========+============+=======+=======+=======+======+=======+\n",
            "|   2011 |    100 |         -5 |    25 |  -125 |   625 | -500 |  2500 |\n",
            "+--------+--------+------------+-------+-------+-------+------+-------+\n",
            "|   2012 |    107 |         -3 |     9 |   -27 |    81 | -321 |   963 |\n",
            "+--------+--------+------------+-------+-------+-------+------+-------+\n",
            "|   2013 |    128 |         -1 |     1 |    -1 |     1 | -128 |   128 |\n",
            "+--------+--------+------------+-------+-------+-------+------+-------+\n",
            "|   2014 |    140 |          1 |     1 |     1 |     1 |  140 |   140 |\n",
            "+--------+--------+------------+-------+-------+-------+------+-------+\n",
            "|   2015 |    181 |          3 |     9 |    27 |    81 |  543 |  1629 |\n",
            "+--------+--------+------------+-------+-------+-------+------+-------+\n",
            "|   2016 |    192 |          5 |    25 |   125 |   625 |  960 |  4800 |\n",
            "+--------+--------+------------+-------+-------+-------+------+-------+\n",
            "a=136.12, b=9.91, c=0.45\n",
            "Polynomial trend equation y=136.12+9.91x+0.45x^2\n"
          ]
        }
      ],
      "source": [
        "## Polynomial Trend Estimation...\n",
        "\n",
        "import numpy as np\n",
        "from tabulate import tabulate\n",
        "\n",
        "x = [2011,2012,2013,2014,2015,2016]\n",
        "y = [100,107,128,140,181,192]\n",
        "X = [2*(i-(sum(x)/len(x))) for i in x]\n",
        "x2 = [i ** 2 for i in X]\n",
        "xy = [i * j for i, j in zip(X, y)]\n",
        "x3 = [i ** 3 for i in X]\n",
        "x4 = [i ** 4 for i in X]\n",
        "x2y=[i*j for i,j in zip(x2,y)]\n",
        "\n",
        "table = [[i, j, k, l, m,n,o,p] for i, j, k, l, m,n,o,p in zip(x, y, X, x2, x3,x4,xy,x2y)]\n",
        "\n",
        "print(tabulate(table, headers=[\"Year\", \"Prod\", \"X=x-2013\", \"X^2\", \"X^3\",\"X^4\",\"xy\",\"x2y\"], tablefmt=\"grid\"))\n",
        "coeff=[[len(X),sum(X)],[sum(X),sum(x2)]]\n",
        "\n",
        "coeff=[[len(x),sum(X),sum(x2)],[sum(X),sum(x2),sum(x3)],[sum(x2),sum(x3),sum(x4)]]\n",
        "Y=[sum(y),sum(xy),sum(x2y)]\n",
        "A=np.array(coeff)\n",
        "B=np.array(Y)\n",
        "\n",
        "try:\n",
        "  solution=np.linalg.solve(A,B)\n",
        "except:\n",
        "  print(\"error\")\n",
        "\n",
        "a,b,c=solution\n",
        "print(\"a=%.2f, b=%.2f, c=%.2f\"%(a,b,c))\n",
        "print(\"Polynomial trend equation y=%.2f+%0.2fx+%.2fx^2\"%(a,b,c))\n",
        "l=[]\n",
        "\n",
        "for i in range(len(X)):\n",
        "  l.append(a+b*X[i]+c*x2[i])"
      ]
    },
    {
      "cell_type": "code",
      "source": [
        "import matplotlib.pyplot as plt\n",
        "plt.plot(x,l)"
      ],
      "metadata": {
        "colab": {
          "base_uri": "https://localhost:8080/",
          "height": 447
        },
        "id": "7BFyoHtGY66C",
        "outputId": "bc6b2fcd-47b0-45f8-ff2c-0b3f8542ab72"
      },
      "execution_count": 3,
      "outputs": [
        {
          "output_type": "execute_result",
          "data": {
            "text/plain": [
              "[<matplotlib.lines.Line2D at 0x7f420820a3b0>]"
            ]
          },
          "metadata": {},
          "execution_count": 3
        },
        {
          "output_type": "display_data",
          "data": {
            "text/plain": [
              "<Figure size 640x480 with 1 Axes>"
            ],
            "image/png": "[encoded data removed]"
          },
          "metadata": {}
        }
      ]
    }
  ]
}